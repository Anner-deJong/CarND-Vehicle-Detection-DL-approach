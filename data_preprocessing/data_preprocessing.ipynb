{
 "cells": [
  {
   "cell_type": "code",
   "execution_count": 50,
   "metadata": {},
   "outputs": [],
   "source": [
    "import csv\n",
    "import glob"
   ]
  },
  {
   "cell_type": "code",
   "execution_count": 37,
   "metadata": {},
   "outputs": [],
   "source": [
    "# label files (Kitti is a directory)\n",
    "Udacity_Autti_file = '../data/Udacity/object-dataset/labels.csv'\n",
    "Udacity_Crowdai_file = '../data/Udacity/object-detection-crowdai/labels.csv'\n",
    "Kitti_directory = '../data/Kitti/training/label_2/'"
   ]
  },
  {
   "cell_type": "markdown",
   "metadata": {},
   "source": [
    "One by one we will convert each entry in these three csv files into this format: <br>\n",
    "xmin, ymin, xmax, ymax, relative file directory+name\n",
    "\n",
    "Furthermore, all entries with non cars will be excluded, since we are only looking for cars <br>\n",
    "(see also the note on multi-task learning in the readme)"
   ]
  },
  {
   "cell_type": "code",
   "execution_count": 63,
   "metadata": {},
   "outputs": [],
   "source": [
    "# this will combine all labels. Make sure to run each of the below cells ONLY ONCE!\n",
    "# otherwise a cell's data entries will be included double in the final training csv\n",
    "all_labels = []"
   ]
  },
  {
   "cell_type": "code",
   "execution_count": 56,
   "metadata": {},
   "outputs": [],
   "source": [
    "# Udacity Autti csv file\n",
    "# colums are space separated, and consist of:\n",
    "# frame, xmin, ymin, xmax, ymax, occluded, label, attributes (Only appears on traffic lights)\n",
    "\n",
    "with open(Udacity_Autti_file) as f:\n",
    "            labels = csv.reader(f, delimiter=' ')\n",
    "            for idx, row in enumerate(labels):\n",
    "                if row[6] == \"car\":\n",
    "                    entry = ['/data/Udacity/object-dataset/'+row[0], row[1:5]]\n",
    "                    all_labels.append(entry)"
   ]
  },
  {
   "cell_type": "code",
   "execution_count": 57,
   "metadata": {},
   "outputs": [],
   "source": [
    "# Udacity Autti csv file\n",
    "# colums are comma separated, and consist of:\n",
    "# xmin, ymin, xmax, ymax, frame, label, preview url for frame\n",
    "\n",
    "with open(Udacity_Crowdai_file) as f:\n",
    "            labels = csv.reader(f)\n",
    "            for idx, row in enumerate(labels):\n",
    "                next(labels, None)  # skip header\n",
    "                all_labels.append(row)\n",
    "                if row[5] == 'Car':\n",
    "                    entry = ['/data/Udacity/object-detection-crowdai/'+row[4], row[0:4]]\n",
    "                    all_labels.append(entry)"
   ]
  },
  {
   "cell_type": "code",
   "execution_count": 67,
   "metadata": {},
   "outputs": [
    {
     "name": "stdout",
     "output_type": "stream",
     "text": [
      "7481\n"
     ]
    }
   ],
   "source": [
    "# Kitti label file\n",
    "# each file here corresponds to an image\n",
    "# no check is performed to see if an image has at least one car entry\n",
    "# (the classifier should understand there are no cars in no-car images)\n",
    "\n",
    "files = glob.glob(Kitti_directory+'*')\n",
    "for file in files:\n",
    "    with open(file) as f:\n",
    "        entry = [file[2:]]\n",
    "        for line in f:\n",
    "            row = line.split()\n",
    "            if row[0] == 'Car':\n",
    "                entry.append(row[1:])\n",
    "\n",
    "        all_labels.append(entry)\n",
    "        "
   ]
  },
  {
   "cell_type": "code",
   "execution_count": 66,
   "metadata": {},
   "outputs": [
    {
     "name": "stdout",
     "output_type": "stream",
     "text": [
      "7481\n",
      "['/data/Kitti/training/label_2/006145.txt', ['0.00', '0', '-1.58', '595.09', '177.15', '637.82', '217.56', '1.56', '1.65', '3.69', '0.21', '1.75', '29.98', '-1.58'], ['0.18', '0', '2.19', '0.00', '185.06', '198.62', '277.08', '1.56', '1.70', '4.41', '-10.57', '1.84', '14.76', '1.57'], ['0.00', '0', '-1.16', '812.56', '169.04', '1023.51', '293.58', '1.53', '1.57', '3.54', '4.59', '1.49', '10.63', '-0.76'], ['0.00', '1', '-1.05', '764.98', '172.70', '947.97', '261.04', '1.50', '1.64', '3.99', '4.89', '1.51', '14.18', '-0.73'], ['0.00', '1', '-1.08', '708.54', '177.97', '852.27', '243.88', '1.40', '1.65', '4.18', '4.24', '1.55', '17.70', '-0.85'], ['0.00', '1', '-1.02', '688.87', '171.19', '810.95', '231.62', '1.59', '1.65', '3.94', '4.11', '1.56', '21.00', '-0.83'], ['0.00', '2', '-0.96', '683.58', '175.03', '795.67', '222.45', '1.48', '1.73', '4.06', '4.45', '1.57', '24.64', '-0.78'], ['0.00', '2', '-0.85', '671.67', '172.74', '771.02', '217.39', '1.63', '1.61', '3.96', '4.37', '1.64', '28.24', '-0.70'], ['0.00', '0', '1.69', '527.40', '180.19', '548.84', '196.17', '1.38', '1.47', '3.62', '-6.45', '2.05', '64.87', '1.60'], ['0.00', '2', '-0.86', '643.30', '175.11', '696.46', '195.05', '1.40', '1.63', '4.05', '4.40', '1.58', '52.87', '-0.78'], ['0.00', '0', '1.74', '492.21', '177.06', '516.24', '194.15', '1.67', '1.68', '4.49', '-10.73', '2.11', '73.40', '1.59']]\n"
     ]
    }
   ],
   "source": [
    "print(len(all_labels))\n",
    "print(all_labels[0])"
   ]
  },
  {
   "cell_type": "code",
   "execution_count": null,
   "metadata": {},
   "outputs": [],
   "source": []
  },
  {
   "cell_type": "code",
   "execution_count": null,
   "metadata": {},
   "outputs": [],
   "source": []
  }
 ],
 "metadata": {
  "kernelspec": {
   "display_name": "Python 3",
   "language": "python",
   "name": "python3"
  },
  "language_info": {
   "codemirror_mode": {
    "name": "ipython",
    "version": 3
   },
   "file_extension": ".py",
   "mimetype": "text/x-python",
   "name": "python",
   "nbconvert_exporter": "python",
   "pygments_lexer": "ipython3",
   "version": "3.6.3"
  }
 },
 "nbformat": 4,
 "nbformat_minor": 2
}
